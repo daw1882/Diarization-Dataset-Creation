{
  "nbformat": 4,
  "nbformat_minor": 0,
  "metadata": {
    "colab": {
      "provenance": []
    },
    "kernelspec": {
      "name": "python3",
      "display_name": "Python 3"
    },
    "language_info": {
      "name": "python"
    },
    "widgets": {
      "application/vnd.jupyter.widget-state+json": {
        "5d041f69516e4566aedbebc28afbe915": {
          "model_module": "@jupyter-widgets/controls",
          "model_name": "VBoxModel",
          "model_module_version": "1.5.0",
          "state": {
            "_dom_classes": [],
            "_model_module": "@jupyter-widgets/controls",
            "_model_module_version": "1.5.0",
            "_model_name": "VBoxModel",
            "_view_count": null,
            "_view_module": "@jupyter-widgets/controls",
            "_view_module_version": "1.5.0",
            "_view_name": "VBoxView",
            "box_style": "",
            "children": [
              "IPY_MODEL_13d23b980fd047b1ba6800bedd4fa055",
              "IPY_MODEL_b63d5581110a46528998499d741eab71",
              "IPY_MODEL_c5b3ae0f5cff4a4886acebcff75d224f",
              "IPY_MODEL_248ea8dbef6f442c88d2c7c9f13022b5",
              "IPY_MODEL_ebe1a01e4997490f89dc1d9715dca41f"
            ],
            "layout": "IPY_MODEL_80a2499e54da411e8d78debbd9bae308"
          }
        },
        "13d23b980fd047b1ba6800bedd4fa055": {
          "model_module": "@jupyter-widgets/controls",
          "model_name": "HTMLModel",
          "model_module_version": "1.5.0",
          "state": {
            "_dom_classes": [],
            "_model_module": "@jupyter-widgets/controls",
            "_model_module_version": "1.5.0",
            "_model_name": "HTMLModel",
            "_view_count": null,
            "_view_module": "@jupyter-widgets/controls",
            "_view_module_version": "1.5.0",
            "_view_name": "HTMLView",
            "description": "",
            "description_tooltip": null,
            "layout": "IPY_MODEL_d7f96efac4584b20ba044fd0d4076fca",
            "placeholder": "​",
            "style": "IPY_MODEL_620feca42d234216969ba0cef8c6df67",
            "value": "<center> <img\nsrc=https://huggingface.co/front/assets/huggingface_logo-noborder.svg\nalt='Hugging Face'> <br> Copy a token from <a\nhref=\"https://huggingface.co/settings/tokens\" target=\"_blank\">your Hugging Face\ntokens page</a> and paste it below. <br> Immediately click login after copying\nyour token or it might be stored in plain text in this notebook file. </center>"
          }
        },
        "b63d5581110a46528998499d741eab71": {
          "model_module": "@jupyter-widgets/controls",
          "model_name": "PasswordModel",
          "model_module_version": "1.5.0",
          "state": {
            "_dom_classes": [],
            "_model_module": "@jupyter-widgets/controls",
            "_model_module_version": "1.5.0",
            "_model_name": "PasswordModel",
            "_view_count": null,
            "_view_module": "@jupyter-widgets/controls",
            "_view_module_version": "1.5.0",
            "_view_name": "PasswordView",
            "continuous_update": true,
            "description": "Token:",
            "description_tooltip": null,
            "disabled": false,
            "layout": "IPY_MODEL_88109fce0179467b8d7b328e95e1f17e",
            "placeholder": "​",
            "style": "IPY_MODEL_ae7134651eb24b889c76f240f78e3a3c",
            "value": ""
          }
        },
        "c5b3ae0f5cff4a4886acebcff75d224f": {
          "model_module": "@jupyter-widgets/controls",
          "model_name": "CheckboxModel",
          "model_module_version": "1.5.0",
          "state": {
            "_dom_classes": [],
            "_model_module": "@jupyter-widgets/controls",
            "_model_module_version": "1.5.0",
            "_model_name": "CheckboxModel",
            "_view_count": null,
            "_view_module": "@jupyter-widgets/controls",
            "_view_module_version": "1.5.0",
            "_view_name": "CheckboxView",
            "description": "Add token as git credential?",
            "description_tooltip": null,
            "disabled": false,
            "indent": true,
            "layout": "IPY_MODEL_660dcaa95ef54a77b80dcb1d40b4eb62",
            "style": "IPY_MODEL_c687aafc0b68462b9e4395be8839dc1c",
            "value": true
          }
        },
        "248ea8dbef6f442c88d2c7c9f13022b5": {
          "model_module": "@jupyter-widgets/controls",
          "model_name": "ButtonModel",
          "model_module_version": "1.5.0",
          "state": {
            "_dom_classes": [],
            "_model_module": "@jupyter-widgets/controls",
            "_model_module_version": "1.5.0",
            "_model_name": "ButtonModel",
            "_view_count": null,
            "_view_module": "@jupyter-widgets/controls",
            "_view_module_version": "1.5.0",
            "_view_name": "ButtonView",
            "button_style": "",
            "description": "Login",
            "disabled": false,
            "icon": "",
            "layout": "IPY_MODEL_f4be6c78871d40c8bdbf973ae1f7dbb5",
            "style": "IPY_MODEL_133fd6d7ee104d249de9c5e99b347712",
            "tooltip": ""
          }
        },
        "ebe1a01e4997490f89dc1d9715dca41f": {
          "model_module": "@jupyter-widgets/controls",
          "model_name": "HTMLModel",
          "model_module_version": "1.5.0",
          "state": {
            "_dom_classes": [],
            "_model_module": "@jupyter-widgets/controls",
            "_model_module_version": "1.5.0",
            "_model_name": "HTMLModel",
            "_view_count": null,
            "_view_module": "@jupyter-widgets/controls",
            "_view_module_version": "1.5.0",
            "_view_name": "HTMLView",
            "description": "",
            "description_tooltip": null,
            "layout": "IPY_MODEL_9d86776d2abe4325971c7246179a69b6",
            "placeholder": "​",
            "style": "IPY_MODEL_42e07f28607d4fe4b097e613a6e2ce12",
            "value": "\n<b>Pro Tip:</b> If you don't already have one, you can create a dedicated\n'notebooks' token with 'write' access, that you can then easily reuse for all\nnotebooks. </center>"
          }
        },
        "80a2499e54da411e8d78debbd9bae308": {
          "model_module": "@jupyter-widgets/base",
          "model_name": "LayoutModel",
          "model_module_version": "1.2.0",
          "state": {
            "_model_module": "@jupyter-widgets/base",
            "_model_module_version": "1.2.0",
            "_model_name": "LayoutModel",
            "_view_count": null,
            "_view_module": "@jupyter-widgets/base",
            "_view_module_version": "1.2.0",
            "_view_name": "LayoutView",
            "align_content": null,
            "align_items": "center",
            "align_self": null,
            "border": null,
            "bottom": null,
            "display": "flex",
            "flex": null,
            "flex_flow": "column",
            "grid_area": null,
            "grid_auto_columns": null,
            "grid_auto_flow": null,
            "grid_auto_rows": null,
            "grid_column": null,
            "grid_gap": null,
            "grid_row": null,
            "grid_template_areas": null,
            "grid_template_columns": null,
            "grid_template_rows": null,
            "height": null,
            "justify_content": null,
            "justify_items": null,
            "left": null,
            "margin": null,
            "max_height": null,
            "max_width": null,
            "min_height": null,
            "min_width": null,
            "object_fit": null,
            "object_position": null,
            "order": null,
            "overflow": null,
            "overflow_x": null,
            "overflow_y": null,
            "padding": null,
            "right": null,
            "top": null,
            "visibility": null,
            "width": "50%"
          }
        },
        "d7f96efac4584b20ba044fd0d4076fca": {
          "model_module": "@jupyter-widgets/base",
          "model_name": "LayoutModel",
          "model_module_version": "1.2.0",
          "state": {
            "_model_module": "@jupyter-widgets/base",
            "_model_module_version": "1.2.0",
            "_model_name": "LayoutModel",
            "_view_count": null,
            "_view_module": "@jupyter-widgets/base",
            "_view_module_version": "1.2.0",
            "_view_name": "LayoutView",
            "align_content": null,
            "align_items": null,
            "align_self": null,
            "border": null,
            "bottom": null,
            "display": null,
            "flex": null,
            "flex_flow": null,
            "grid_area": null,
            "grid_auto_columns": null,
            "grid_auto_flow": null,
            "grid_auto_rows": null,
            "grid_column": null,
            "grid_gap": null,
            "grid_row": null,
            "grid_template_areas": null,
            "grid_template_columns": null,
            "grid_template_rows": null,
            "height": null,
            "justify_content": null,
            "justify_items": null,
            "left": null,
            "margin": null,
            "max_height": null,
            "max_width": null,
            "min_height": null,
            "min_width": null,
            "object_fit": null,
            "object_position": null,
            "order": null,
            "overflow": null,
            "overflow_x": null,
            "overflow_y": null,
            "padding": null,
            "right": null,
            "top": null,
            "visibility": null,
            "width": null
          }
        },
        "620feca42d234216969ba0cef8c6df67": {
          "model_module": "@jupyter-widgets/controls",
          "model_name": "DescriptionStyleModel",
          "model_module_version": "1.5.0",
          "state": {
            "_model_module": "@jupyter-widgets/controls",
            "_model_module_version": "1.5.0",
            "_model_name": "DescriptionStyleModel",
            "_view_count": null,
            "_view_module": "@jupyter-widgets/base",
            "_view_module_version": "1.2.0",
            "_view_name": "StyleView",
            "description_width": ""
          }
        },
        "88109fce0179467b8d7b328e95e1f17e": {
          "model_module": "@jupyter-widgets/base",
          "model_name": "LayoutModel",
          "model_module_version": "1.2.0",
          "state": {
            "_model_module": "@jupyter-widgets/base",
            "_model_module_version": "1.2.0",
            "_model_name": "LayoutModel",
            "_view_count": null,
            "_view_module": "@jupyter-widgets/base",
            "_view_module_version": "1.2.0",
            "_view_name": "LayoutView",
            "align_content": null,
            "align_items": null,
            "align_self": null,
            "border": null,
            "bottom": null,
            "display": null,
            "flex": null,
            "flex_flow": null,
            "grid_area": null,
            "grid_auto_columns": null,
            "grid_auto_flow": null,
            "grid_auto_rows": null,
            "grid_column": null,
            "grid_gap": null,
            "grid_row": null,
            "grid_template_areas": null,
            "grid_template_columns": null,
            "grid_template_rows": null,
            "height": null,
            "justify_content": null,
            "justify_items": null,
            "left": null,
            "margin": null,
            "max_height": null,
            "max_width": null,
            "min_height": null,
            "min_width": null,
            "object_fit": null,
            "object_position": null,
            "order": null,
            "overflow": null,
            "overflow_x": null,
            "overflow_y": null,
            "padding": null,
            "right": null,
            "top": null,
            "visibility": null,
            "width": null
          }
        },
        "ae7134651eb24b889c76f240f78e3a3c": {
          "model_module": "@jupyter-widgets/controls",
          "model_name": "DescriptionStyleModel",
          "model_module_version": "1.5.0",
          "state": {
            "_model_module": "@jupyter-widgets/controls",
            "_model_module_version": "1.5.0",
            "_model_name": "DescriptionStyleModel",
            "_view_count": null,
            "_view_module": "@jupyter-widgets/base",
            "_view_module_version": "1.2.0",
            "_view_name": "StyleView",
            "description_width": ""
          }
        },
        "660dcaa95ef54a77b80dcb1d40b4eb62": {
          "model_module": "@jupyter-widgets/base",
          "model_name": "LayoutModel",
          "model_module_version": "1.2.0",
          "state": {
            "_model_module": "@jupyter-widgets/base",
            "_model_module_version": "1.2.0",
            "_model_name": "LayoutModel",
            "_view_count": null,
            "_view_module": "@jupyter-widgets/base",
            "_view_module_version": "1.2.0",
            "_view_name": "LayoutView",
            "align_content": null,
            "align_items": null,
            "align_self": null,
            "border": null,
            "bottom": null,
            "display": null,
            "flex": null,
            "flex_flow": null,
            "grid_area": null,
            "grid_auto_columns": null,
            "grid_auto_flow": null,
            "grid_auto_rows": null,
            "grid_column": null,
            "grid_gap": null,
            "grid_row": null,
            "grid_template_areas": null,
            "grid_template_columns": null,
            "grid_template_rows": null,
            "height": null,
            "justify_content": null,
            "justify_items": null,
            "left": null,
            "margin": null,
            "max_height": null,
            "max_width": null,
            "min_height": null,
            "min_width": null,
            "object_fit": null,
            "object_position": null,
            "order": null,
            "overflow": null,
            "overflow_x": null,
            "overflow_y": null,
            "padding": null,
            "right": null,
            "top": null,
            "visibility": null,
            "width": null
          }
        },
        "c687aafc0b68462b9e4395be8839dc1c": {
          "model_module": "@jupyter-widgets/controls",
          "model_name": "DescriptionStyleModel",
          "model_module_version": "1.5.0",
          "state": {
            "_model_module": "@jupyter-widgets/controls",
            "_model_module_version": "1.5.0",
            "_model_name": "DescriptionStyleModel",
            "_view_count": null,
            "_view_module": "@jupyter-widgets/base",
            "_view_module_version": "1.2.0",
            "_view_name": "StyleView",
            "description_width": ""
          }
        },
        "f4be6c78871d40c8bdbf973ae1f7dbb5": {
          "model_module": "@jupyter-widgets/base",
          "model_name": "LayoutModel",
          "model_module_version": "1.2.0",
          "state": {
            "_model_module": "@jupyter-widgets/base",
            "_model_module_version": "1.2.0",
            "_model_name": "LayoutModel",
            "_view_count": null,
            "_view_module": "@jupyter-widgets/base",
            "_view_module_version": "1.2.0",
            "_view_name": "LayoutView",
            "align_content": null,
            "align_items": null,
            "align_self": null,
            "border": null,
            "bottom": null,
            "display": null,
            "flex": null,
            "flex_flow": null,
            "grid_area": null,
            "grid_auto_columns": null,
            "grid_auto_flow": null,
            "grid_auto_rows": null,
            "grid_column": null,
            "grid_gap": null,
            "grid_row": null,
            "grid_template_areas": null,
            "grid_template_columns": null,
            "grid_template_rows": null,
            "height": null,
            "justify_content": null,
            "justify_items": null,
            "left": null,
            "margin": null,
            "max_height": null,
            "max_width": null,
            "min_height": null,
            "min_width": null,
            "object_fit": null,
            "object_position": null,
            "order": null,
            "overflow": null,
            "overflow_x": null,
            "overflow_y": null,
            "padding": null,
            "right": null,
            "top": null,
            "visibility": null,
            "width": null
          }
        },
        "133fd6d7ee104d249de9c5e99b347712": {
          "model_module": "@jupyter-widgets/controls",
          "model_name": "ButtonStyleModel",
          "model_module_version": "1.5.0",
          "state": {
            "_model_module": "@jupyter-widgets/controls",
            "_model_module_version": "1.5.0",
            "_model_name": "ButtonStyleModel",
            "_view_count": null,
            "_view_module": "@jupyter-widgets/base",
            "_view_module_version": "1.2.0",
            "_view_name": "StyleView",
            "button_color": null,
            "font_weight": ""
          }
        },
        "9d86776d2abe4325971c7246179a69b6": {
          "model_module": "@jupyter-widgets/base",
          "model_name": "LayoutModel",
          "model_module_version": "1.2.0",
          "state": {
            "_model_module": "@jupyter-widgets/base",
            "_model_module_version": "1.2.0",
            "_model_name": "LayoutModel",
            "_view_count": null,
            "_view_module": "@jupyter-widgets/base",
            "_view_module_version": "1.2.0",
            "_view_name": "LayoutView",
            "align_content": null,
            "align_items": null,
            "align_self": null,
            "border": null,
            "bottom": null,
            "display": null,
            "flex": null,
            "flex_flow": null,
            "grid_area": null,
            "grid_auto_columns": null,
            "grid_auto_flow": null,
            "grid_auto_rows": null,
            "grid_column": null,
            "grid_gap": null,
            "grid_row": null,
            "grid_template_areas": null,
            "grid_template_columns": null,
            "grid_template_rows": null,
            "height": null,
            "justify_content": null,
            "justify_items": null,
            "left": null,
            "margin": null,
            "max_height": null,
            "max_width": null,
            "min_height": null,
            "min_width": null,
            "object_fit": null,
            "object_position": null,
            "order": null,
            "overflow": null,
            "overflow_x": null,
            "overflow_y": null,
            "padding": null,
            "right": null,
            "top": null,
            "visibility": null,
            "width": null
          }
        },
        "42e07f28607d4fe4b097e613a6e2ce12": {
          "model_module": "@jupyter-widgets/controls",
          "model_name": "DescriptionStyleModel",
          "model_module_version": "1.5.0",
          "state": {
            "_model_module": "@jupyter-widgets/controls",
            "_model_module_version": "1.5.0",
            "_model_name": "DescriptionStyleModel",
            "_view_count": null,
            "_view_module": "@jupyter-widgets/base",
            "_view_module_version": "1.2.0",
            "_view_name": "StyleView",
            "description_width": ""
          }
        }
      }
    }
  },
  "cells": [
    {
      "cell_type": "markdown",
      "source": [
        "# Diarization Dataset Evaluation\n",
        "Authors: Dade Wood | daw1882@rit.edu, Wiley Matthews | wsm8855@rit.edu\n",
        "\n",
        "This notebook demonstrates the process of evaluating the `pyannote.audio` speaker diarization model on one of our generated datasets."
      ],
      "metadata": {
        "id": "-uH08cuRZuDm"
      }
    },
    {
      "cell_type": "markdown",
      "source": [
        "## Setup\n",
        "- Link the colab to the shared drive\n",
        "- Install the `pyannote.audio` package\n",
        "- Login to Hugging Face\n",
        "\n",
        "### Link to drive"
      ],
      "metadata": {
        "id": "u-_OnFgIa9vI"
      }
    },
    {
      "cell_type": "code",
      "source": [
        "from google.colab import drive\n",
        "drive.mount('/content/drive')"
      ],
      "metadata": {
        "colab": {
          "base_uri": "https://localhost:8080/"
        },
        "id": "LjXg8jVS-y8d",
        "outputId": "1a60154f-c6b8-4f04-9ee0-08ee619975c8"
      },
      "execution_count": 1,
      "outputs": [
        {
          "output_type": "stream",
          "name": "stdout",
          "text": [
            "Drive already mounted at /content/drive; to attempt to forcibly remount, call drive.mount(\"/content/drive\", force_remount=True).\n"
          ]
        }
      ]
    },
    {
      "cell_type": "markdown",
      "source": [
        "### Install `pyannote.audio`"
      ],
      "metadata": {
        "id": "CgMHZcDvbZ3A"
      }
    },
    {
      "cell_type": "code",
      "execution_count": 2,
      "metadata": {
        "colab": {
          "base_uri": "https://localhost:8080/"
        },
        "id": "iaHbkYzOJ9K5",
        "outputId": "fd261ecb-8cb9-41bb-c78b-5165f347817c"
      },
      "outputs": [
        {
          "output_type": "stream",
          "name": "stdout",
          "text": [
            "Looking in indexes: https://pypi.org/simple, https://us-python.pkg.dev/colab-wheels/public/simple/\n",
            "Requirement already satisfied: pyannote.audio in /usr/local/lib/python3.8/dist-packages (2.1.1)\n",
            "Requirement already satisfied: singledispatchmethod in /usr/local/lib/python3.8/dist-packages (from pyannote.audio) (1.0)\n",
            "Requirement already satisfied: torch-audiomentations>=0.11.0 in /usr/local/lib/python3.8/dist-packages (from pyannote.audio) (0.11.0)\n",
            "Requirement already satisfied: networkx<3.0,>=2.6 in /usr/local/lib/python3.8/dist-packages (from pyannote.audio) (2.6.3)\n",
            "Requirement already satisfied: pyannote.metrics<4.0,>=3.2 in /usr/local/lib/python3.8/dist-packages (from pyannote.audio) (3.2.1)\n",
            "Requirement already satisfied: einops<0.4.0,>=0.3 in /usr/local/lib/python3.8/dist-packages (from pyannote.audio) (0.3.2)\n",
            "Requirement already satisfied: backports.cached-property in /usr/local/lib/python3.8/dist-packages (from pyannote.audio) (1.0.2)\n",
            "Requirement already satisfied: huggingface-hub>=0.8.1 in /usr/local/lib/python3.8/dist-packages (from pyannote.audio) (0.11.1)\n",
            "Requirement already satisfied: pyannote.database<5.0,>=4.1.1 in /usr/local/lib/python3.8/dist-packages (from pyannote.audio) (4.1.3)\n",
            "Requirement already satisfied: pyannote.pipeline<3.0,>=2.3 in /usr/local/lib/python3.8/dist-packages (from pyannote.audio) (2.3)\n",
            "Requirement already satisfied: speechbrain<0.6,>=0.5.12 in /usr/local/lib/python3.8/dist-packages (from pyannote.audio) (0.5.13)\n",
            "Requirement already satisfied: torchmetrics<1.0,>=0.6 in /usr/local/lib/python3.8/dist-packages (from pyannote.audio) (0.11.0)\n",
            "Requirement already satisfied: asteroid-filterbanks<0.5,>=0.4 in /usr/local/lib/python3.8/dist-packages (from pyannote.audio) (0.4.0)\n",
            "Requirement already satisfied: semver<3.0,>=2.10.2 in /usr/local/lib/python3.8/dist-packages (from pyannote.audio) (2.13.0)\n",
            "Requirement already satisfied: torch>=1.9 in /usr/local/lib/python3.8/dist-packages (from pyannote.audio) (1.12.1+cu113)\n",
            "Requirement already satisfied: omegaconf<3.0,>=2.1 in /usr/local/lib/python3.8/dist-packages (from pyannote.audio) (2.2.3)\n",
            "Requirement already satisfied: torchaudio<1.0,>=0.10 in /usr/local/lib/python3.8/dist-packages (from pyannote.audio) (0.12.1+cu113)\n",
            "Requirement already satisfied: pytorch-lightning<1.7,>=1.5.4 in /usr/local/lib/python3.8/dist-packages (from pyannote.audio) (1.6.5)\n",
            "Requirement already satisfied: soundfile<0.11,>=0.10.2 in /usr/local/lib/python3.8/dist-packages (from pyannote.audio) (0.10.3.post1)\n",
            "Requirement already satisfied: pytorch-metric-learning<2.0,>=1.0.0 in /usr/local/lib/python3.8/dist-packages (from pyannote.audio) (1.6.3)\n",
            "Requirement already satisfied: hmmlearn<0.3,>=0.2.7 in /usr/local/lib/python3.8/dist-packages (from pyannote.audio) (0.2.8)\n",
            "Requirement already satisfied: pyannote.core<5.0,>=4.4 in /usr/local/lib/python3.8/dist-packages (from pyannote.audio) (4.5)\n",
            "Requirement already satisfied: typing-extensions in /usr/local/lib/python3.8/dist-packages (from pyannote.audio) (4.1.1)\n",
            "Requirement already satisfied: numpy in /usr/local/lib/python3.8/dist-packages (from asteroid-filterbanks<0.5,>=0.4->pyannote.audio) (1.21.6)\n",
            "Requirement already satisfied: scipy>=0.19 in /usr/local/lib/python3.8/dist-packages (from hmmlearn<0.3,>=0.2.7->pyannote.audio) (1.7.3)\n",
            "Requirement already satisfied: scikit-learn>=0.16 in /usr/local/lib/python3.8/dist-packages (from hmmlearn<0.3,>=0.2.7->pyannote.audio) (1.0.2)\n",
            "Requirement already satisfied: requests in /usr/local/lib/python3.8/dist-packages (from huggingface-hub>=0.8.1->pyannote.audio) (2.23.0)\n",
            "Requirement already satisfied: packaging>=20.9 in /usr/local/lib/python3.8/dist-packages (from huggingface-hub>=0.8.1->pyannote.audio) (21.3)\n",
            "Requirement already satisfied: pyyaml>=5.1 in /usr/local/lib/python3.8/dist-packages (from huggingface-hub>=0.8.1->pyannote.audio) (6.0)\n",
            "Requirement already satisfied: tqdm in /usr/local/lib/python3.8/dist-packages (from huggingface-hub>=0.8.1->pyannote.audio) (4.64.1)\n",
            "Requirement already satisfied: filelock in /usr/local/lib/python3.8/dist-packages (from huggingface-hub>=0.8.1->pyannote.audio) (3.8.0)\n",
            "Requirement already satisfied: antlr4-python3-runtime==4.9.* in /usr/local/lib/python3.8/dist-packages (from omegaconf<3.0,>=2.1->pyannote.audio) (4.9.3)\n",
            "Requirement already satisfied: pyparsing!=3.0.5,>=2.0.2 in /usr/local/lib/python3.8/dist-packages (from packaging>=20.9->huggingface-hub>=0.8.1->pyannote.audio) (3.0.9)\n",
            "Requirement already satisfied: sortedcontainers>=2.0.4 in /usr/local/lib/python3.8/dist-packages (from pyannote.core<5.0,>=4.4->pyannote.audio) (2.4.0)\n",
            "Requirement already satisfied: simplejson>=3.8.1 in /usr/local/lib/python3.8/dist-packages (from pyannote.core<5.0,>=4.4->pyannote.audio) (3.18.0)\n",
            "Requirement already satisfied: pandas>=0.19 in /usr/local/lib/python3.8/dist-packages (from pyannote.database<5.0,>=4.1.1->pyannote.audio) (1.3.5)\n",
            "Requirement already satisfied: typer[all]>=0.2.1 in /usr/local/lib/python3.8/dist-packages (from pyannote.database<5.0,>=4.1.1->pyannote.audio) (0.7.0)\n",
            "Requirement already satisfied: python-dateutil>=2.7.3 in /usr/local/lib/python3.8/dist-packages (from pandas>=0.19->pyannote.database<5.0,>=4.1.1->pyannote.audio) (2.8.2)\n",
            "Requirement already satisfied: pytz>=2017.3 in /usr/local/lib/python3.8/dist-packages (from pandas>=0.19->pyannote.database<5.0,>=4.1.1->pyannote.audio) (2022.6)\n",
            "Requirement already satisfied: tabulate>=0.7.7 in /usr/local/lib/python3.8/dist-packages (from pyannote.metrics<4.0,>=3.2->pyannote.audio) (0.8.10)\n",
            "Requirement already satisfied: sympy>=1.1 in /usr/local/lib/python3.8/dist-packages (from pyannote.metrics<4.0,>=3.2->pyannote.audio) (1.7.1)\n",
            "Requirement already satisfied: matplotlib>=2.0.0 in /usr/local/lib/python3.8/dist-packages (from pyannote.metrics<4.0,>=3.2->pyannote.audio) (3.2.2)\n",
            "Requirement already satisfied: docopt>=0.6.2 in /usr/local/lib/python3.8/dist-packages (from pyannote.metrics<4.0,>=3.2->pyannote.audio) (0.6.2)\n",
            "Requirement already satisfied: cycler>=0.10 in /usr/local/lib/python3.8/dist-packages (from matplotlib>=2.0.0->pyannote.metrics<4.0,>=3.2->pyannote.audio) (0.11.0)\n",
            "Requirement already satisfied: kiwisolver>=1.0.1 in /usr/local/lib/python3.8/dist-packages (from matplotlib>=2.0.0->pyannote.metrics<4.0,>=3.2->pyannote.audio) (1.4.4)\n",
            "Requirement already satisfied: optuna>=1.4 in /usr/local/lib/python3.8/dist-packages (from pyannote.pipeline<3.0,>=2.3->pyannote.audio) (3.0.4)\n",
            "Requirement already satisfied: cliff in /usr/local/lib/python3.8/dist-packages (from optuna>=1.4->pyannote.pipeline<3.0,>=2.3->pyannote.audio) (4.1.0)\n",
            "Requirement already satisfied: importlib-metadata<5.0.0 in /usr/local/lib/python3.8/dist-packages (from optuna>=1.4->pyannote.pipeline<3.0,>=2.3->pyannote.audio) (4.13.0)\n",
            "Requirement already satisfied: colorlog in /usr/local/lib/python3.8/dist-packages (from optuna>=1.4->pyannote.pipeline<3.0,>=2.3->pyannote.audio) (6.7.0)\n",
            "Requirement already satisfied: cmaes>=0.8.2 in /usr/local/lib/python3.8/dist-packages (from optuna>=1.4->pyannote.pipeline<3.0,>=2.3->pyannote.audio) (0.9.0)\n",
            "Requirement already satisfied: sqlalchemy>=1.3.0 in /usr/local/lib/python3.8/dist-packages (from optuna>=1.4->pyannote.pipeline<3.0,>=2.3->pyannote.audio) (1.4.44)\n",
            "Requirement already satisfied: alembic>=1.5.0 in /usr/local/lib/python3.8/dist-packages (from optuna>=1.4->pyannote.pipeline<3.0,>=2.3->pyannote.audio) (1.8.1)\n",
            "Requirement already satisfied: Mako in /usr/local/lib/python3.8/dist-packages (from alembic>=1.5.0->optuna>=1.4->pyannote.pipeline<3.0,>=2.3->pyannote.audio) (1.2.4)\n",
            "Requirement already satisfied: importlib-resources in /usr/local/lib/python3.8/dist-packages (from alembic>=1.5.0->optuna>=1.4->pyannote.pipeline<3.0,>=2.3->pyannote.audio) (5.10.0)\n",
            "Requirement already satisfied: zipp>=0.5 in /usr/local/lib/python3.8/dist-packages (from importlib-metadata<5.0.0->optuna>=1.4->pyannote.pipeline<3.0,>=2.3->pyannote.audio) (3.10.0)\n",
            "Requirement already satisfied: six>=1.5 in /usr/local/lib/python3.8/dist-packages (from python-dateutil>=2.7.3->pandas>=0.19->pyannote.database<5.0,>=4.1.1->pyannote.audio) (1.15.0)\n",
            "Requirement already satisfied: pyDeprecate>=0.3.1 in /usr/local/lib/python3.8/dist-packages (from pytorch-lightning<1.7,>=1.5.4->pyannote.audio) (0.3.2)\n",
            "Requirement already satisfied: protobuf<=3.20.1 in /usr/local/lib/python3.8/dist-packages (from pytorch-lightning<1.7,>=1.5.4->pyannote.audio) (3.19.6)\n",
            "Requirement already satisfied: tensorboard>=2.2.0 in /usr/local/lib/python3.8/dist-packages (from pytorch-lightning<1.7,>=1.5.4->pyannote.audio) (2.9.1)\n",
            "Requirement already satisfied: fsspec[http]!=2021.06.0,>=2021.05.0 in /usr/local/lib/python3.8/dist-packages (from pytorch-lightning<1.7,>=1.5.4->pyannote.audio) (2022.11.0)\n",
            "Requirement already satisfied: aiohttp!=4.0.0a0,!=4.0.0a1 in /usr/local/lib/python3.8/dist-packages (from fsspec[http]!=2021.06.0,>=2021.05.0->pytorch-lightning<1.7,>=1.5.4->pyannote.audio) (3.8.3)\n",
            "Requirement already satisfied: charset-normalizer<3.0,>=2.0 in /usr/local/lib/python3.8/dist-packages (from aiohttp!=4.0.0a0,!=4.0.0a1->fsspec[http]!=2021.06.0,>=2021.05.0->pytorch-lightning<1.7,>=1.5.4->pyannote.audio) (2.1.1)\n",
            "Requirement already satisfied: attrs>=17.3.0 in /usr/local/lib/python3.8/dist-packages (from aiohttp!=4.0.0a0,!=4.0.0a1->fsspec[http]!=2021.06.0,>=2021.05.0->pytorch-lightning<1.7,>=1.5.4->pyannote.audio) (22.1.0)\n",
            "Requirement already satisfied: aiosignal>=1.1.2 in /usr/local/lib/python3.8/dist-packages (from aiohttp!=4.0.0a0,!=4.0.0a1->fsspec[http]!=2021.06.0,>=2021.05.0->pytorch-lightning<1.7,>=1.5.4->pyannote.audio) (1.3.1)\n",
            "Requirement already satisfied: yarl<2.0,>=1.0 in /usr/local/lib/python3.8/dist-packages (from aiohttp!=4.0.0a0,!=4.0.0a1->fsspec[http]!=2021.06.0,>=2021.05.0->pytorch-lightning<1.7,>=1.5.4->pyannote.audio) (1.8.1)\n",
            "Requirement already satisfied: frozenlist>=1.1.1 in /usr/local/lib/python3.8/dist-packages (from aiohttp!=4.0.0a0,!=4.0.0a1->fsspec[http]!=2021.06.0,>=2021.05.0->pytorch-lightning<1.7,>=1.5.4->pyannote.audio) (1.3.3)\n",
            "Requirement already satisfied: async-timeout<5.0,>=4.0.0a3 in /usr/local/lib/python3.8/dist-packages (from aiohttp!=4.0.0a0,!=4.0.0a1->fsspec[http]!=2021.06.0,>=2021.05.0->pytorch-lightning<1.7,>=1.5.4->pyannote.audio) (4.0.2)\n",
            "Requirement already satisfied: multidict<7.0,>=4.5 in /usr/local/lib/python3.8/dist-packages (from aiohttp!=4.0.0a0,!=4.0.0a1->fsspec[http]!=2021.06.0,>=2021.05.0->pytorch-lightning<1.7,>=1.5.4->pyannote.audio) (6.0.2)\n",
            "Requirement already satisfied: torchvision in /usr/local/lib/python3.8/dist-packages (from pytorch-metric-learning<2.0,>=1.0.0->pyannote.audio) (0.13.1+cu113)\n",
            "Requirement already satisfied: joblib>=0.11 in /usr/local/lib/python3.8/dist-packages (from scikit-learn>=0.16->hmmlearn<0.3,>=0.2.7->pyannote.audio) (1.2.0)\n",
            "Requirement already satisfied: threadpoolctl>=2.0.0 in /usr/local/lib/python3.8/dist-packages (from scikit-learn>=0.16->hmmlearn<0.3,>=0.2.7->pyannote.audio) (3.1.0)\n",
            "Requirement already satisfied: cffi>=1.0 in /usr/local/lib/python3.8/dist-packages (from soundfile<0.11,>=0.10.2->pyannote.audio) (1.15.1)\n",
            "Requirement already satisfied: pycparser in /usr/local/lib/python3.8/dist-packages (from cffi>=1.0->soundfile<0.11,>=0.10.2->pyannote.audio) (2.21)\n",
            "Requirement already satisfied: sentencepiece in /usr/local/lib/python3.8/dist-packages (from speechbrain<0.6,>=0.5.12->pyannote.audio) (0.1.97)\n",
            "Requirement already satisfied: hyperpyyaml in /usr/local/lib/python3.8/dist-packages (from speechbrain<0.6,>=0.5.12->pyannote.audio) (1.1.0)\n",
            "Requirement already satisfied: greenlet!=0.4.17 in /usr/local/lib/python3.8/dist-packages (from sqlalchemy>=1.3.0->optuna>=1.4->pyannote.pipeline<3.0,>=2.3->pyannote.audio) (2.0.1)\n",
            "Requirement already satisfied: mpmath>=0.19 in /usr/local/lib/python3.8/dist-packages (from sympy>=1.1->pyannote.metrics<4.0,>=3.2->pyannote.audio) (1.2.1)\n",
            "Requirement already satisfied: grpcio>=1.24.3 in /usr/local/lib/python3.8/dist-packages (from tensorboard>=2.2.0->pytorch-lightning<1.7,>=1.5.4->pyannote.audio) (1.50.0)\n",
            "Requirement already satisfied: wheel>=0.26 in /usr/local/lib/python3.8/dist-packages (from tensorboard>=2.2.0->pytorch-lightning<1.7,>=1.5.4->pyannote.audio) (0.38.4)\n",
            "Requirement already satisfied: markdown>=2.6.8 in /usr/local/lib/python3.8/dist-packages (from tensorboard>=2.2.0->pytorch-lightning<1.7,>=1.5.4->pyannote.audio) (3.4.1)\n",
            "Requirement already satisfied: setuptools>=41.0.0 in /usr/local/lib/python3.8/dist-packages (from tensorboard>=2.2.0->pytorch-lightning<1.7,>=1.5.4->pyannote.audio) (57.4.0)\n",
            "Requirement already satisfied: tensorboard-data-server<0.7.0,>=0.6.0 in /usr/local/lib/python3.8/dist-packages (from tensorboard>=2.2.0->pytorch-lightning<1.7,>=1.5.4->pyannote.audio) (0.6.1)\n",
            "Requirement already satisfied: tensorboard-plugin-wit>=1.6.0 in /usr/local/lib/python3.8/dist-packages (from tensorboard>=2.2.0->pytorch-lightning<1.7,>=1.5.4->pyannote.audio) (1.8.1)\n",
            "Requirement already satisfied: google-auth-oauthlib<0.5,>=0.4.1 in /usr/local/lib/python3.8/dist-packages (from tensorboard>=2.2.0->pytorch-lightning<1.7,>=1.5.4->pyannote.audio) (0.4.6)\n",
            "Requirement already satisfied: werkzeug>=1.0.1 in /usr/local/lib/python3.8/dist-packages (from tensorboard>=2.2.0->pytorch-lightning<1.7,>=1.5.4->pyannote.audio) (1.0.1)\n",
            "Requirement already satisfied: absl-py>=0.4 in /usr/local/lib/python3.8/dist-packages (from tensorboard>=2.2.0->pytorch-lightning<1.7,>=1.5.4->pyannote.audio) (1.3.0)\n",
            "Requirement already satisfied: google-auth<3,>=1.6.3 in /usr/local/lib/python3.8/dist-packages (from tensorboard>=2.2.0->pytorch-lightning<1.7,>=1.5.4->pyannote.audio) (2.14.1)\n",
            "Requirement already satisfied: cachetools<6.0,>=2.0.0 in /usr/local/lib/python3.8/dist-packages (from google-auth<3,>=1.6.3->tensorboard>=2.2.0->pytorch-lightning<1.7,>=1.5.4->pyannote.audio) (5.2.0)\n",
            "Requirement already satisfied: rsa<5,>=3.1.4 in /usr/local/lib/python3.8/dist-packages (from google-auth<3,>=1.6.3->tensorboard>=2.2.0->pytorch-lightning<1.7,>=1.5.4->pyannote.audio) (4.9)\n",
            "Requirement already satisfied: pyasn1-modules>=0.2.1 in /usr/local/lib/python3.8/dist-packages (from google-auth<3,>=1.6.3->tensorboard>=2.2.0->pytorch-lightning<1.7,>=1.5.4->pyannote.audio) (0.2.8)\n",
            "Requirement already satisfied: requests-oauthlib>=0.7.0 in /usr/local/lib/python3.8/dist-packages (from google-auth-oauthlib<0.5,>=0.4.1->tensorboard>=2.2.0->pytorch-lightning<1.7,>=1.5.4->pyannote.audio) (1.3.1)\n",
            "Requirement already satisfied: pyasn1<0.5.0,>=0.4.6 in /usr/local/lib/python3.8/dist-packages (from pyasn1-modules>=0.2.1->google-auth<3,>=1.6.3->tensorboard>=2.2.0->pytorch-lightning<1.7,>=1.5.4->pyannote.audio) (0.4.8)\n",
            "Requirement already satisfied: urllib3!=1.25.0,!=1.25.1,<1.26,>=1.21.1 in /usr/local/lib/python3.8/dist-packages (from requests->huggingface-hub>=0.8.1->pyannote.audio) (1.24.3)\n",
            "Requirement already satisfied: chardet<4,>=3.0.2 in /usr/local/lib/python3.8/dist-packages (from requests->huggingface-hub>=0.8.1->pyannote.audio) (3.0.4)\n",
            "Requirement already satisfied: certifi>=2017.4.17 in /usr/local/lib/python3.8/dist-packages (from requests->huggingface-hub>=0.8.1->pyannote.audio) (2022.9.24)\n",
            "Requirement already satisfied: idna<3,>=2.5 in /usr/local/lib/python3.8/dist-packages (from requests->huggingface-hub>=0.8.1->pyannote.audio) (2.10)\n",
            "Requirement already satisfied: oauthlib>=3.0.0 in /usr/local/lib/python3.8/dist-packages (from requests-oauthlib>=0.7.0->google-auth-oauthlib<0.5,>=0.4.1->tensorboard>=2.2.0->pytorch-lightning<1.7,>=1.5.4->pyannote.audio) (3.2.2)\n",
            "Requirement already satisfied: librosa>=0.6.0 in /usr/local/lib/python3.8/dist-packages (from torch-audiomentations>=0.11.0->pyannote.audio) (0.8.1)\n",
            "Requirement already satisfied: torch-pitch-shift>=1.2.2 in /usr/local/lib/python3.8/dist-packages (from torch-audiomentations>=0.11.0->pyannote.audio) (1.2.2)\n",
            "Requirement already satisfied: julius<0.3,>=0.2.3 in /usr/local/lib/python3.8/dist-packages (from torch-audiomentations>=0.11.0->pyannote.audio) (0.2.7)\n",
            "Requirement already satisfied: resampy>=0.2.2 in /usr/local/lib/python3.8/dist-packages (from librosa>=0.6.0->torch-audiomentations>=0.11.0->pyannote.audio) (0.4.2)\n",
            "Requirement already satisfied: numba>=0.43.0 in /usr/local/lib/python3.8/dist-packages (from librosa>=0.6.0->torch-audiomentations>=0.11.0->pyannote.audio) (0.56.4)\n",
            "Requirement already satisfied: pooch>=1.0 in /usr/local/lib/python3.8/dist-packages (from librosa>=0.6.0->torch-audiomentations>=0.11.0->pyannote.audio) (1.6.0)\n",
            "Requirement already satisfied: decorator>=3.0.0 in /usr/local/lib/python3.8/dist-packages (from librosa>=0.6.0->torch-audiomentations>=0.11.0->pyannote.audio) (4.4.2)\n",
            "Requirement already satisfied: audioread>=2.0.0 in /usr/local/lib/python3.8/dist-packages (from librosa>=0.6.0->torch-audiomentations>=0.11.0->pyannote.audio) (3.0.0)\n",
            "Requirement already satisfied: llvmlite<0.40,>=0.39.0dev0 in /usr/local/lib/python3.8/dist-packages (from numba>=0.43.0->librosa>=0.6.0->torch-audiomentations>=0.11.0->pyannote.audio) (0.39.1)\n",
            "Requirement already satisfied: appdirs>=1.3.0 in /usr/local/lib/python3.8/dist-packages (from pooch>=1.0->librosa>=0.6.0->torch-audiomentations>=0.11.0->pyannote.audio) (1.4.4)\n",
            "Requirement already satisfied: primePy>=1.3 in /usr/local/lib/python3.8/dist-packages (from torch-pitch-shift>=1.2.2->torch-audiomentations>=0.11.0->pyannote.audio) (1.3)\n",
            "Requirement already satisfied: click<9.0.0,>=7.1.1 in /usr/local/lib/python3.8/dist-packages (from typer[all]>=0.2.1->pyannote.database<5.0,>=4.1.1->pyannote.audio) (7.1.2)\n",
            "Requirement already satisfied: rich<13.0.0,>=10.11.0 in /usr/local/lib/python3.8/dist-packages (from typer[all]>=0.2.1->pyannote.database<5.0,>=4.1.1->pyannote.audio) (12.6.0)\n",
            "Requirement already satisfied: colorama<0.5.0,>=0.4.3 in /usr/local/lib/python3.8/dist-packages (from typer[all]>=0.2.1->pyannote.database<5.0,>=4.1.1->pyannote.audio) (0.4.6)\n",
            "Requirement already satisfied: shellingham<2.0.0,>=1.3.0 in /usr/local/lib/python3.8/dist-packages (from typer[all]>=0.2.1->pyannote.database<5.0,>=4.1.1->pyannote.audio) (1.5.0)\n",
            "Requirement already satisfied: commonmark<0.10.0,>=0.9.0 in /usr/local/lib/python3.8/dist-packages (from rich<13.0.0,>=10.11.0->typer[all]>=0.2.1->pyannote.database<5.0,>=4.1.1->pyannote.audio) (0.9.1)\n",
            "Requirement already satisfied: pygments<3.0.0,>=2.6.0 in /usr/local/lib/python3.8/dist-packages (from rich<13.0.0,>=10.11.0->typer[all]>=0.2.1->pyannote.database<5.0,>=4.1.1->pyannote.audio) (2.6.1)\n",
            "Requirement already satisfied: stevedore>=2.0.1 in /usr/local/lib/python3.8/dist-packages (from cliff->optuna>=1.4->pyannote.pipeline<3.0,>=2.3->pyannote.audio) (4.1.1)\n",
            "Requirement already satisfied: cmd2>=1.0.0 in /usr/local/lib/python3.8/dist-packages (from cliff->optuna>=1.4->pyannote.pipeline<3.0,>=2.3->pyannote.audio) (2.4.2)\n",
            "Requirement already satisfied: autopage>=0.4.0 in /usr/local/lib/python3.8/dist-packages (from cliff->optuna>=1.4->pyannote.pipeline<3.0,>=2.3->pyannote.audio) (0.5.1)\n",
            "Requirement already satisfied: PrettyTable>=0.7.2 in /usr/local/lib/python3.8/dist-packages (from cliff->optuna>=1.4->pyannote.pipeline<3.0,>=2.3->pyannote.audio) (3.5.0)\n",
            "Requirement already satisfied: pyperclip>=1.6 in /usr/local/lib/python3.8/dist-packages (from cmd2>=1.0.0->cliff->optuna>=1.4->pyannote.pipeline<3.0,>=2.3->pyannote.audio) (1.8.2)\n",
            "Requirement already satisfied: wcwidth>=0.1.7 in /usr/local/lib/python3.8/dist-packages (from cmd2>=1.0.0->cliff->optuna>=1.4->pyannote.pipeline<3.0,>=2.3->pyannote.audio) (0.2.5)\n",
            "Requirement already satisfied: pbr!=2.1.0,>=2.0.0 in /usr/local/lib/python3.8/dist-packages (from stevedore>=2.0.1->cliff->optuna>=1.4->pyannote.pipeline<3.0,>=2.3->pyannote.audio) (5.11.0)\n",
            "Requirement already satisfied: ruamel.yaml>=0.17.8 in /usr/local/lib/python3.8/dist-packages (from hyperpyyaml->speechbrain<0.6,>=0.5.12->pyannote.audio) (0.17.21)\n",
            "Requirement already satisfied: ruamel.yaml.clib>=0.2.6 in /usr/local/lib/python3.8/dist-packages (from ruamel.yaml>=0.17.8->hyperpyyaml->speechbrain<0.6,>=0.5.12->pyannote.audio) (0.2.7)\n",
            "Requirement already satisfied: MarkupSafe>=0.9.2 in /usr/local/lib/python3.8/dist-packages (from Mako->alembic>=1.5.0->optuna>=1.4->pyannote.pipeline<3.0,>=2.3->pyannote.audio) (2.0.1)\n",
            "Requirement already satisfied: pillow!=8.3.*,>=5.3.0 in /usr/local/lib/python3.8/dist-packages (from torchvision->pytorch-metric-learning<2.0,>=1.0.0->pyannote.audio) (7.1.2)\n"
          ]
        }
      ],
      "source": [
        "!pip install pyannote.audio"
      ]
    },
    {
      "cell_type": "markdown",
      "source": [
        "### Import requirements"
      ],
      "metadata": {
        "id": "M6vloaR16md7"
      }
    },
    {
      "cell_type": "code",
      "source": [
        "# import packages for data manipulation\n",
        "from glob import glob\n",
        "import os\n",
        "\n",
        "# import our module for RTTM files\n",
        "import sys\n",
        "sys.path.insert(0,'/content/drive/Shareddrives/Data-Analytics/')\n",
        "import rttm\n",
        "\n",
        "# import relevant pyannote.core data structures and constants\n",
        "from pyannote.core.annotation import Annotation, PYANNOTE_SEGMENT, PYANNOTE_TRACK, PYANNOTE_LABEL\n",
        "from pyannote.core.segment import Segment\n",
        "\n",
        "# import evaluation metric\n",
        "from pyannote.metrics.diarization import DiarizationErrorRate\n",
        "\n",
        "# import login and pipeline\n",
        "from huggingface_hub import notebook_login\n",
        "from pyannote.audio import Pipeline"
      ],
      "metadata": {
        "id": "MvuGxkG76lQb"
      },
      "execution_count": 3,
      "outputs": []
    },
    {
      "cell_type": "markdown",
      "source": [
        "### Login to Hugging Face\n",
        "\n",
        "This is required to use the model because one must accept the terms and conditions to use it.\n",
        "\n",
        "To create and account and accept user conditions (only if requested):\n",
        "- Create a Hugging Face account at [huggingface.co/](https://huggingface.co/) (if you do not already have one)\n",
        "- Accept the user conditions at these two pages\n",
        "  - [hf.co/pyannote/speaker-diarization](hf.co/pyannote/speaker-diarization)\n",
        "  - [hf.co/pyannote/segmentation](hf.co/pyannote/segmentation)\n",
        "- Create an access token at [hf.co/settings/tokens](hf.co/settings/tokens)\n",
        "\n",
        "When the following cell is executed, a prompt will appear asking for a password. The password is the token generated using the steps above."
      ],
      "metadata": {
        "id": "ySK25W-kbgDD"
      }
    },
    {
      "cell_type": "code",
      "source": [
        "notebook_login()"
      ],
      "metadata": {
        "colab": {
          "base_uri": "https://localhost:8080/",
          "height": 359,
          "referenced_widgets": [
            "5d041f69516e4566aedbebc28afbe915",
            "13d23b980fd047b1ba6800bedd4fa055",
            "b63d5581110a46528998499d741eab71",
            "c5b3ae0f5cff4a4886acebcff75d224f",
            "248ea8dbef6f442c88d2c7c9f13022b5",
            "ebe1a01e4997490f89dc1d9715dca41f",
            "80a2499e54da411e8d78debbd9bae308",
            "d7f96efac4584b20ba044fd0d4076fca",
            "620feca42d234216969ba0cef8c6df67",
            "88109fce0179467b8d7b328e95e1f17e",
            "ae7134651eb24b889c76f240f78e3a3c",
            "660dcaa95ef54a77b80dcb1d40b4eb62",
            "c687aafc0b68462b9e4395be8839dc1c",
            "f4be6c78871d40c8bdbf973ae1f7dbb5",
            "133fd6d7ee104d249de9c5e99b347712",
            "9d86776d2abe4325971c7246179a69b6",
            "42e07f28607d4fe4b097e613a6e2ce12"
          ]
        },
        "id": "pdajQm7jKIB-",
        "outputId": "16886450-7fd1-48b2-b975-0fe1dbf4e3e2"
      },
      "execution_count": 4,
      "outputs": [
        {
          "output_type": "stream",
          "name": "stdout",
          "text": [
            "Token is valid.\n",
            "Your token has been saved in your configured git credential helpers (store).\n",
            "Your token has been saved to /root/.huggingface/token\n",
            "Login successful\n"
          ]
        }
      ]
    },
    {
      "cell_type": "markdown",
      "source": [
        "### Helper functions"
      ],
      "metadata": {
        "id": "KR3gUEggeORg"
      }
    },
    {
      "cell_type": "code",
      "source": [
        "def annotation_from_rttm_file(fn_rttm):\n",
        "    \"\"\"\n",
        "    Load the data in an RTTM file  to pyannote's Annotation data structure.\n",
        "    The Annotation data structure is compatible with the \n",
        "    DiarizationErrorRate metric for comparison with the model's predictions.\n",
        "    \"\"\"\n",
        "\n",
        "    # read raw rttm entries into our format\n",
        "    rttms = []\n",
        "    with open(fn_rttm, 'r') as rttm_file:\n",
        "        for line in rttm_file:\n",
        "            rttms.append(rttm.file_str2rttm(line))\n",
        "\n",
        "    # into df for easy handling and handoff to pyannote\n",
        "    df = rttm.rttms2df(rttms)\n",
        "\n",
        "    # convert into pyannote's types\n",
        "    def to_segment(row):\n",
        "        return Segment(row['turn_onset'], row['turn_duration']+row['turn_onset'])\n",
        "    df[PYANNOTE_SEGMENT] = df[['turn_onset', 'turn_duration']].apply(to_segment, axis=1)\n",
        "    df[PYANNOTE_TRACK] = df['file_id'].apply(lambda fid: fid)\n",
        "    df[PYANNOTE_LABEL] = df['speaker_name'].apply((lambda name: name))\n",
        "\n",
        "    # pyannote does the rest\n",
        "    annotation = Annotation.from_df(df)\n",
        "    return annotation\n",
        "\n",
        "\n",
        "def evaluate_dataset(audio_dir, rttm_dir, model):\n",
        "    \"\"\"Return average DER of the model on given dataset\"\"\"\n",
        "    # Set eval method\n",
        "    eval = DiarizationErrorRate()\n",
        "\n",
        "    # Gather files\n",
        "    audio_files = glob(os.path.join(audio_dir, \"*.wav\"))\n",
        "    audio_files.sort()\n",
        "    rttm_files = glob(os.path.join(rttm_dir, \"*.rttm\"))\n",
        "    rttm_files.sort()\n",
        "\n",
        "    # Process files\n",
        "    errors = []\n",
        "    for audio, rttm in zip(audio_files, rttm_files):\n",
        "        diarization = model(audio)\n",
        "        label_annotation = annotation_from_rttm_file(rttm)\n",
        "        error = eval(reference=label_annotation, hypothesis=diarization)\n",
        "        print(f'DER for {os.path.basename(audio)}: {error*100:.2f}%')\n",
        "        errors.append(error)\n",
        "    return sum(errors) / len(errors)\n"
      ],
      "metadata": {
        "id": "gX-tjkyZX1hI"
      },
      "execution_count": 7,
      "outputs": []
    },
    {
      "cell_type": "markdown",
      "source": [
        "## Diarization Example (one file)\n",
        "\n",
        "The following cells define an example audio file and evaluate the diarization model on it."
      ],
      "metadata": {
        "id": "HQk2a0Fmb40q"
      }
    },
    {
      "cell_type": "code",
      "source": [
        "wav = \"/content/drive/Shareddrives/Data-Analytics/sample_1.wav\""
      ],
      "metadata": {
        "id": "tGjxkbeXnLVu"
      },
      "execution_count": 8,
      "outputs": []
    },
    {
      "cell_type": "code",
      "source": [
        "# Apply pretrained pipeline\n",
        "pipeline = Pipeline.from_pretrained(\"pyannote/speaker-diarization\", use_auth_token=True)\n",
        "diarization = pipeline(wav)\n",
        "\n",
        "# Print the results\n",
        "for turn, _, speaker in diarization.itertracks(yield_label=True):\n",
        "    print(f\"start={turn.start:.1f}s stop={turn.end:.1f}s speaker_{speaker}\")"
      ],
      "metadata": {
        "colab": {
          "base_uri": "https://localhost:8080/"
        },
        "id": "5iIY4mltMgFU",
        "outputId": "b391f64d-4db4-4dbf-d43c-6326e517dae4"
      },
      "execution_count": 9,
      "outputs": [
        {
          "output_type": "stream",
          "name": "stdout",
          "text": [
            "start=0.5s stop=2.2s speaker_SPEAKER_00\n",
            "start=2.7s stop=5.9s speaker_SPEAKER_02\n",
            "start=5.9s stop=9.5s speaker_SPEAKER_01\n"
          ]
        }
      ]
    },
    {
      "cell_type": "code",
      "source": [
        "# Display labeled data\n",
        "fn_rttm = \"/content/drive/Shareddrives/Data-Analytics/sample_0.rttm\"\n",
        "label_annotation = annotation_from_rttm_file(fn_rttm)\n",
        "label_annotation"
      ],
      "metadata": {
        "colab": {
          "base_uri": "https://localhost:8080/",
          "height": 190
        },
        "id": "w-hlmsL_gItx",
        "outputId": "5eb8d141-8f81-425a-daec-18fb89c125de"
      },
      "execution_count": 10,
      "outputs": [
        {
          "output_type": "execute_result",
          "data": {
            "text/plain": [
              "<pyannote.core.annotation.Annotation at 0x7f88f07b0820>"
            ],
            "image/png": "[encoded data removed]"
          },
          "metadata": {},
          "execution_count": 10
        }
      ]
    },
    {
      "cell_type": "code",
      "source": [
        "# Display predicted data\n",
        "diarization"
      ],
      "metadata": {
        "colab": {
          "base_uri": "https://localhost:8080/",
          "height": 190
        },
        "id": "vDu0wNfR9JmE",
        "outputId": "ba0d5510-94d5-48f3-ca7d-54122e6e4bdc"
      },
      "execution_count": 11,
      "outputs": [
        {
          "output_type": "execute_result",
          "data": {
            "text/plain": [
              "<pyannote.core.annotation.Annotation at 0x7f88f07b03d0>"
            ],
            "image/png": "[encoded data removed]"
          },
          "metadata": {},
          "execution_count": 11
        }
      ]
    },
    {
      "cell_type": "code",
      "source": [
        "# Compute DER\n",
        "der = DiarizationErrorRate()\n",
        "print(der.compute_components(reference=label_annotation, hypothesis=diarization))\n",
        "print(der(reference=label_annotation, hypothesis=diarization))"
      ],
      "metadata": {
        "colab": {
          "base_uri": "https://localhost:8080/"
        },
        "id": "siunrZaDgmm0",
        "outputId": "01ef83ed-c857-4328-e541-e77273f549d4"
      },
      "execution_count": 12,
      "outputs": [
        {
          "output_type": "stream",
          "name": "stdout",
          "text": [
            "{'correct': 5.564374999999999, 'false alarm': 0.0, 'total': 12.5, 'confusion': 2.906875000000003, 'missed detection': 4.028749999999998}\n",
            "0.5548500000000001\n"
          ]
        }
      ]
    },
    {
      "cell_type": "markdown",
      "source": [
        "## Experimentation with Evaluation\n",
        "\n",
        "The following cells define some helper functions, then load the dataset and apply the model to it."
      ],
      "metadata": {
        "id": "73OfYLhZXndu"
      }
    },
    {
      "cell_type": "markdown",
      "source": [
        "### Apply the model\n",
        "\n",
        "This example applies the model to a test dataset. Change the audio and rttm directories to whichever dataset you want to use."
      ],
      "metadata": {
        "id": "gCRS9S94eQtz"
      }
    },
    {
      "cell_type": "code",
      "source": [
        "pipeline = Pipeline.from_pretrained(\"pyannote/speaker-diarization\", use_auth_token=True)\n",
        "DER = evaluate_dataset(\n",
        "    audio_dir='/content/drive/Shareddrives/Data-Analytics/dataset_d/audio',\n",
        "    rttm_dir='/content/drive/Shareddrives/Data-Analytics/dataset_d/rttm',\n",
        "    model=pipeline\n",
        ")\n",
        "print(f'Average DER for dataset: {DER*100:.2f}%')"
      ],
      "metadata": {
        "colab": {
          "base_uri": "https://localhost:8080/"
        },
        "id": "mzi7tBYVbULU",
        "outputId": "0ca6082a-f15c-45ff-b443-ec64196de309"
      },
      "execution_count": 13,
      "outputs": [
        {
          "output_type": "stream",
          "name": "stdout",
          "text": [
            "DER for sample_0.wav: 21.63%\n",
            "DER for sample_1.wav: 41.59%\n",
            "DER for sample_10.wav: 27.62%\n",
            "DER for sample_11.wav: 27.67%\n",
            "DER for sample_12.wav: 48.03%\n",
            "DER for sample_13.wav: 60.51%\n",
            "DER for sample_14.wav: 50.87%\n",
            "DER for sample_15.wav: 41.27%\n",
            "DER for sample_16.wav: 36.25%\n",
            "DER for sample_17.wav: 36.92%\n",
            "DER for sample_18.wav: 72.69%\n",
            "DER for sample_19.wav: 52.46%\n",
            "DER for sample_2.wav: 29.08%\n",
            "DER for sample_20.wav: 26.32%\n",
            "DER for sample_21.wav: 16.91%\n",
            "DER for sample_22.wav: 39.36%\n",
            "DER for sample_23.wav: 17.45%\n",
            "DER for sample_24.wav: 52.35%\n",
            "DER for sample_25.wav: 39.88%\n",
            "DER for sample_26.wav: 37.25%\n",
            "DER for sample_27.wav: 51.29%\n",
            "DER for sample_28.wav: 29.84%\n",
            "DER for sample_29.wav: 52.53%\n",
            "DER for sample_3.wav: 84.41%\n",
            "DER for sample_30.wav: 41.61%\n",
            "DER for sample_31.wav: 32.76%\n",
            "DER for sample_32.wav: 49.22%\n",
            "DER for sample_33.wav: 43.67%\n",
            "DER for sample_34.wav: 36.48%\n",
            "DER for sample_35.wav: 37.69%\n",
            "DER for sample_36.wav: 56.15%\n",
            "DER for sample_37.wav: 60.44%\n",
            "DER for sample_38.wav: 20.76%\n",
            "DER for sample_39.wav: 40.64%\n",
            "DER for sample_4.wav: 43.55%\n",
            "DER for sample_40.wav: 38.54%\n",
            "DER for sample_41.wav: 40.86%\n",
            "DER for sample_42.wav: 38.57%\n",
            "DER for sample_43.wav: 41.01%\n",
            "DER for sample_44.wav: 21.12%\n",
            "DER for sample_45.wav: 30.37%\n",
            "DER for sample_46.wav: 28.45%\n",
            "DER for sample_47.wav: 54.55%\n",
            "DER for sample_48.wav: 31.58%\n",
            "DER for sample_49.wav: 23.96%\n",
            "DER for sample_5.wav: 52.17%\n",
            "DER for sample_50.wav: 46.82%\n",
            "DER for sample_51.wav: 51.33%\n",
            "DER for sample_52.wav: 37.03%\n",
            "DER for sample_53.wav: 44.43%\n",
            "DER for sample_54.wav: 38.87%\n",
            "DER for sample_55.wav: 35.55%\n",
            "DER for sample_56.wav: 52.07%\n",
            "DER for sample_57.wav: 26.13%\n",
            "DER for sample_58.wav: 58.39%\n",
            "DER for sample_59.wav: 24.78%\n",
            "DER for sample_6.wav: 61.19%\n",
            "DER for sample_60.wav: 51.93%\n",
            "DER for sample_61.wav: 31.69%\n",
            "DER for sample_62.wav: 36.49%\n",
            "DER for sample_63.wav: 51.87%\n",
            "DER for sample_64.wav: 42.26%\n",
            "DER for sample_65.wav: 50.34%\n",
            "DER for sample_66.wav: 47.95%\n",
            "DER for sample_67.wav: 59.66%\n",
            "DER for sample_68.wav: 60.62%\n",
            "DER for sample_69.wav: 45.30%\n",
            "DER for sample_7.wav: 51.72%\n",
            "DER for sample_70.wav: 54.87%\n",
            "DER for sample_71.wav: 35.73%\n",
            "DER for sample_72.wav: 45.85%\n",
            "DER for sample_73.wav: 60.69%\n",
            "DER for sample_74.wav: 15.72%\n",
            "DER for sample_75.wav: 47.96%\n",
            "DER for sample_76.wav: 37.98%\n",
            "DER for sample_77.wav: 17.09%\n",
            "DER for sample_78.wav: 51.76%\n",
            "DER for sample_79.wav: 13.20%\n",
            "DER for sample_8.wav: 28.01%\n",
            "DER for sample_80.wav: 34.68%\n",
            "DER for sample_81.wav: 46.02%\n",
            "DER for sample_82.wav: 44.25%\n",
            "DER for sample_83.wav: 48.18%\n",
            "DER for sample_84.wav: 61.52%\n",
            "DER for sample_85.wav: 51.30%\n",
            "DER for sample_86.wav: 25.85%\n",
            "DER for sample_87.wav: 42.65%\n",
            "DER for sample_88.wav: 42.91%\n",
            "DER for sample_89.wav: 51.35%\n",
            "DER for sample_9.wav: 48.84%\n",
            "DER for sample_90.wav: 37.34%\n",
            "DER for sample_91.wav: 35.69%\n",
            "DER for sample_92.wav: 25.31%\n",
            "DER for sample_93.wav: 45.84%\n",
            "DER for sample_94.wav: 29.70%\n",
            "DER for sample_95.wav: 33.68%\n",
            "DER for sample_96.wav: 19.56%\n",
            "DER for sample_97.wav: 32.96%\n",
            "DER for sample_98.wav: 55.27%\n",
            "DER for sample_99.wav: 54.31%\n",
            "Average DER for dataset: 41.41%\n"
          ]
        }
      ]
    }
  ]
}